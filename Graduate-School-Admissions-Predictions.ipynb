{
 "cells": [
  {
   "cell_type": "code",
   "execution_count": 1,
   "metadata": {
    "_cell_guid": "b1076dfc-b9ad-4769-8c92-a6c4dae69d19",
    "_uuid": "8f2839f25d086af736a60e9eeb907d3b93b6e0e5",
    "execution": {
     "iopub.execute_input": "2024-01-05T15:59:06.722702Z",
     "iopub.status.busy": "2024-01-05T15:59:06.721801Z",
     "iopub.status.idle": "2024-01-05T15:59:06.756624Z",
     "shell.execute_reply": "2024-01-05T15:59:06.755242Z",
     "shell.execute_reply.started": "2024-01-05T15:59:06.722587Z"
    }
   },
   "outputs": [
    {
     "name": "stdout",
     "output_type": "stream",
     "text": [
      "/kaggle/input/big-data-analytics-certification/t2-2-y_train.csv\n",
      "/kaggle/input/big-data-analytics-certification/t1-data1.csv\n",
      "/kaggle/input/big-data-analytics-certification/t2-2-X_train.csv\n",
      "/kaggle/input/big-data-analytics-certification/t2-1-sample_submission.csv\n",
      "/kaggle/input/big-data-analytics-certification/t1-data2.csv\n",
      "/kaggle/input/big-data-analytics-certification/t2-1-test.csv\n",
      "/kaggle/input/big-data-analytics-certification/t2-2-X_test.csv\n",
      "/kaggle/input/big-data-analytics-certification/t2-1-train.csv\n"
     ]
    }
   ],
   "source": [
    "# This Python 3 environment comes with many helpful analytics libraries installed\n",
    "# It is defined by the kaggle/python Docker image: https://github.com/kaggle/docker-python\n",
    "# For example, here's several helpful packages to load\n",
    "\n",
    "import numpy as np # linear algebra\n",
    "import pandas as pd # data processing, CSV file I/O (e.g. pd.read_csv)\n",
    "\n",
    "# Input data files are available in the read-only \"../input/\" directory\n",
    "# For example, running this (by clicking run or pressing Shift+Enter) will list all files under the input directory\n",
    "\n",
    "import os\n",
    "for dirname, _, filenames in os.walk('/kaggle/input'):\n",
    "    for filename in filenames:\n",
    "        print(os.path.join(dirname, filename))\n",
    "\n",
    "# You can write up to 20GB to the current directory (/kaggle/working/) that gets preserved as output when you create a version using \"Save & Run All\" \n",
    "# You can also write temporary files to /kaggle/temp/, but they won't be saved outside of the current session"
   ]
  },
  {
   "cell_type": "code",
   "execution_count": 3,
   "metadata": {
    "execution": {
     "iopub.execute_input": "2024-01-05T15:59:47.003701Z",
     "iopub.status.busy": "2024-01-05T15:59:47.003230Z",
     "iopub.status.idle": "2024-01-05T15:59:47.023630Z",
     "shell.execute_reply": "2024-01-05T15:59:47.022228Z",
     "shell.execute_reply.started": "2024-01-05T15:59:47.003659Z"
    }
   },
   "outputs": [],
   "source": [
    "# 라이브러리\n",
    "import pandas as pd\n",
    "import numpy as np\n",
    "import warnings\n",
    "warnings.filterwarnings('ignore')\n",
    "\n",
    "# 데이터 불러오기\n",
    "X_train = pd.read_csv('/kaggle/input/big-data-analytics-certification/t2-2-X_train.csv')\n",
    "X_test = pd.read_csv('/kaggle/input/big-data-analytics-certification/t2-2-X_test.csv')\n",
    "y_train = pd.read_csv('/kaggle/input/big-data-analytics-certification/t2-2-y_train.csv')"
   ]
  },
  {
   "cell_type": "code",
   "execution_count": 4,
   "metadata": {
    "execution": {
     "iopub.execute_input": "2024-01-05T16:00:04.353849Z",
     "iopub.status.busy": "2024-01-05T16:00:04.353357Z",
     "iopub.status.idle": "2024-01-05T16:00:04.452088Z",
     "shell.execute_reply": "2024-01-05T16:00:04.450611Z",
     "shell.execute_reply.started": "2024-01-05T16:00:04.353813Z"
    }
   },
   "outputs": [
    {
     "name": "stdout",
     "output_type": "stream",
     "text": [
      "   Serial No.  GRE Score  TOEFL Score  University Rating  SOP  LOR   CGPA  \\\n",
      "0         207        315           99                  2  3.5   3.0  7.89   \n",
      "1          14        307          109                  3  4.0   3.0  8.00   \n",
      "2         119        296           99                  2  3.0   3.5  7.28   \n",
      "3         243        324          115                  3  3.5   3.0  8.76   \n",
      "4         236        326          111                  5  4.5   4.0  9.23   \n",
      "\n",
      "   Research  \n",
      "0         0  \n",
      "1         1  \n",
      "2         0  \n",
      "3         1  \n",
      "4         1  \n",
      "   Serial No.  GRE Score  TOEFL Score  University Rating  SOP  LOR   CGPA  \\\n",
      "0         128        319          112                  3  2.5   2.0  8.71   \n",
      "1          76        329          114                  2  2.0   4.0  8.56   \n",
      "2         151        334          114                  4  4.0   4.0  9.43   \n",
      "3         102        312          105                  2  2.5   3.0  8.12   \n",
      "4         272        299           96                  2  1.5   2.0  7.86   \n",
      "\n",
      "   Research  \n",
      "0         1  \n",
      "1         1  \n",
      "2         1  \n",
      "3         0  \n",
      "4         0  \n",
      "   Serial No.  Chance of Admit \n",
      "0         207              0.63\n",
      "1          14              0.62\n",
      "2         119              0.47\n",
      "3         243              0.70\n",
      "4         236              0.88\n",
      "(320, 8)\n",
      "(80, 8)\n",
      "(320, 2)\n",
      "<class 'pandas.core.frame.DataFrame'>\n",
      "RangeIndex: 320 entries, 0 to 319\n",
      "Data columns (total 8 columns):\n",
      " #   Column             Non-Null Count  Dtype  \n",
      "---  ------             --------------  -----  \n",
      " 0   Serial No.         320 non-null    int64  \n",
      " 1   GRE Score          320 non-null    int64  \n",
      " 2   TOEFL Score        320 non-null    int64  \n",
      " 3   University Rating  320 non-null    int64  \n",
      " 4   SOP                320 non-null    float64\n",
      " 5   LOR                320 non-null    float64\n",
      " 6   CGPA               320 non-null    float64\n",
      " 7   Research           320 non-null    int64  \n",
      "dtypes: float64(3), int64(5)\n",
      "memory usage: 20.1 KB\n",
      "None\n",
      "<class 'pandas.core.frame.DataFrame'>\n",
      "RangeIndex: 80 entries, 0 to 79\n",
      "Data columns (total 8 columns):\n",
      " #   Column             Non-Null Count  Dtype  \n",
      "---  ------             --------------  -----  \n",
      " 0   Serial No.         80 non-null     int64  \n",
      " 1   GRE Score          80 non-null     int64  \n",
      " 2   TOEFL Score        80 non-null     int64  \n",
      " 3   University Rating  80 non-null     int64  \n",
      " 4   SOP                80 non-null     float64\n",
      " 5   LOR                80 non-null     float64\n",
      " 6   CGPA               80 non-null     float64\n",
      " 7   Research           80 non-null     int64  \n",
      "dtypes: float64(3), int64(5)\n",
      "memory usage: 5.1 KB\n",
      "None\n",
      "<class 'pandas.core.frame.DataFrame'>\n",
      "RangeIndex: 320 entries, 0 to 319\n",
      "Data columns (total 2 columns):\n",
      " #   Column            Non-Null Count  Dtype  \n",
      "---  ------            --------------  -----  \n",
      " 0   Serial No.        320 non-null    int64  \n",
      " 1   Chance of Admit   320 non-null    float64\n",
      "dtypes: float64(1), int64(1)\n",
      "memory usage: 5.1 KB\n",
      "None\n",
      "       Serial No.   GRE Score  TOEFL Score  University Rating         SOP  \\\n",
      "count  320.000000  320.000000   320.000000         320.000000  320.000000   \n",
      "mean   199.793750  316.378125   107.312500           3.071875    3.392187   \n",
      "std    115.308288   11.423625     5.977688           1.130022    1.010959   \n",
      "min      1.000000  290.000000    92.000000           1.000000    1.000000   \n",
      "25%     98.750000  308.000000   103.000000           2.000000    2.500000   \n",
      "50%    201.500000  317.000000   107.000000           3.000000    3.500000   \n",
      "75%    299.250000  325.000000   111.000000           4.000000    4.000000   \n",
      "max    400.000000  340.000000   120.000000           5.000000    5.000000   \n",
      "\n",
      "             LOR         CGPA    Research  \n",
      "count  320.000000  320.000000  320.000000  \n",
      "mean     3.420313    8.585094    0.540625  \n",
      "std      0.901441    0.589234    0.499127  \n",
      "min      1.000000    7.200000    0.000000  \n",
      "25%      3.000000    8.157500    0.000000  \n",
      "50%      3.500000    8.565000    1.000000  \n",
      "75%      4.000000    9.040000    1.000000  \n",
      "max      5.000000    9.920000    1.000000  \n",
      "--------------------------------------------------------------------------------\n",
      "       Serial No.   GRE Score  TOEFL Score  University Rating        SOP  \\\n",
      "count   80.000000   80.000000    80.000000          80.000000  80.000000   \n",
      "mean   203.325000  318.525000   107.800000           3.150000   3.431250   \n",
      "std    117.520671   11.584554     6.448236           1.202318   0.996017   \n",
      "min      5.000000  294.000000    93.000000           1.000000   1.500000   \n",
      "25%    105.750000  311.000000   103.000000           2.000000   2.875000   \n",
      "50%    197.000000  317.500000   108.000000           3.000000   3.500000   \n",
      "75%    306.750000  327.250000   112.250000           4.000000   4.000000   \n",
      "max    394.000000  340.000000   120.000000           5.000000   5.000000   \n",
      "\n",
      "            LOR        CGPA   Research  \n",
      "count  80.000000  80.000000  80.000000  \n",
      "mean    3.581250   8.654250   0.575000  \n",
      "std     0.880318   0.624605   0.497462  \n",
      "min     2.000000   6.800000   0.000000  \n",
      "25%     3.000000   8.195000   0.000000  \n",
      "50%     3.500000   8.675000   1.000000  \n",
      "75%     4.000000   9.112500   1.000000  \n",
      "max     5.000000   9.910000   1.000000  \n",
      "--------------------------------------------------------------------------------\n",
      "       Serial No.  Chance of Admit \n",
      "count  320.000000        320.000000\n",
      "mean   199.793750          0.720281\n",
      "std    115.308288          0.140227\n",
      "min      1.000000          0.340000\n",
      "25%     98.750000          0.630000\n",
      "50%    201.500000          0.725000\n",
      "75%    299.250000          0.820000\n",
      "max    400.000000          0.970000\n",
      "--------------------------------------------------------------------------------\n"
     ]
    }
   ],
   "source": [
    "# EDA를 통해 데이터 확인\n",
    "print(X_train.head())\n",
    "print(X_test.head())\n",
    "print(y_train.head())\n",
    "\n",
    "# shape\n",
    "print(X_train.shape)\n",
    "print(X_test.shape)\n",
    "print(y_train.shape)\n",
    "\n",
    "# info\n",
    "print(X_train.info())\n",
    "print(X_test.info())\n",
    "print(y_train.info())\n",
    "# null값은 없음\n",
    "# 전부 변수형임\n",
    "# Serial No.은 삭제할 예정\n",
    "\n",
    "# descirbe\n",
    "print(X_train.describe())\n",
    "print('-'*80)\n",
    "print(X_test.describe())\n",
    "print('-'*80)\n",
    "print(y_train.describe())\n",
    "print('-'*80)"
   ]
  },
  {
   "cell_type": "code",
   "execution_count": 5,
   "metadata": {
    "execution": {
     "iopub.execute_input": "2024-01-05T16:00:38.091167Z",
     "iopub.status.busy": "2024-01-05T16:00:38.090604Z",
     "iopub.status.idle": "2024-01-05T16:00:38.114772Z",
     "shell.execute_reply": "2024-01-05T16:00:38.113645Z",
     "shell.execute_reply.started": "2024-01-05T16:00:38.091109Z"
    }
   },
   "outputs": [],
   "source": [
    "# 전처리\n",
    "# 불필요 변수 삭제\n",
    "X_test_ID = X_test['Serial No.']\n",
    "X_train.drop(columns='Serial No.', inplace=True)\n",
    "X_test.drop(columns='Serial No.', inplace=True)\n",
    "y_train.drop(columns='Serial No.', inplace=True)\n",
    "\n",
    "# 표준화\n",
    "from sklearn.preprocessing import StandardScaler\n",
    "Scaler = StandardScaler()\n",
    "NUM_COL = X_train.columns\n",
    "X_train[NUM_COL] = Scaler.fit_transform(X_train[NUM_COL])\n",
    "X_test[NUM_COL] = Scaler.fit_transform(X_test[NUM_COL])"
   ]
  },
  {
   "cell_type": "code",
   "execution_count": 6,
   "metadata": {
    "execution": {
     "iopub.execute_input": "2024-01-05T16:00:53.225921Z",
     "iopub.status.busy": "2024-01-05T16:00:53.225359Z",
     "iopub.status.idle": "2024-01-05T16:00:53.235900Z",
     "shell.execute_reply": "2024-01-05T16:00:53.234574Z",
     "shell.execute_reply.started": "2024-01-05T16:00:53.225878Z"
    }
   },
   "outputs": [],
   "source": [
    "# 데이터 분리\n",
    "from sklearn.model_selection import train_test_split\n",
    "X_tr, X_val, y_tr, y_val = train_test_split(X_train, y_train, test_size=0.3)"
   ]
  },
  {
   "cell_type": "code",
   "execution_count": 8,
   "metadata": {
    "execution": {
     "iopub.execute_input": "2024-01-05T16:01:17.551258Z",
     "iopub.status.busy": "2024-01-05T16:01:17.550730Z",
     "iopub.status.idle": "2024-01-05T16:01:18.025559Z",
     "shell.execute_reply": "2024-01-05T16:01:18.024264Z",
     "shell.execute_reply.started": "2024-01-05T16:01:17.551205Z"
    }
   },
   "outputs": [
    {
     "data": {
      "text/plain": [
       "XGBRegressor(base_score=0.5, booster='gbtree', callbacks=None,\n",
       "             colsample_bylevel=1, colsample_bynode=1, colsample_bytree=1,\n",
       "             early_stopping_rounds=None, enable_categorical=False,\n",
       "             eval_metric=None, gamma=0, gpu_id=-1, grow_policy='depthwise',\n",
       "             importance_type=None, interaction_constraints='',\n",
       "             learning_rate=0.300000012, max_bin=256, max_cat_to_onehot=4,\n",
       "             max_delta_step=0, max_depth=6, max_leaves=0, min_child_weight=1,\n",
       "             missing=nan, monotone_constraints='()', n_estimators=100, n_jobs=0,\n",
       "             num_parallel_tree=1, predictor='auto', random_state=0, reg_alpha=0,\n",
       "             reg_lambda=1, ...)"
      ]
     },
     "execution_count": 8,
     "metadata": {},
     "output_type": "execute_result"
    }
   ],
   "source": [
    "# ML 모델링\n",
    "# 선형회귀분석\n",
    "from sklearn.linear_model import LinearRegression\n",
    "modelLR = LinearRegression()\n",
    "modelLR.fit(X_tr, y_tr)\n",
    "\n",
    "# 릿지 회귀분석\n",
    "from sklearn.linear_model import Ridge\n",
    "modelRI = Ridge(alpha=10)\n",
    "modelRI.fit(X_tr, y_tr)\n",
    "\n",
    "# 랜덤포레스트 회귀\n",
    "from sklearn.ensemble import RandomForestRegressor\n",
    "modelRF = RandomForestRegressor()\n",
    "modelRF.fit(X_tr, y_tr)\n",
    "\n",
    "# SVR\n",
    "from sklearn.svm import SVR\n",
    "modelSVR = SVR()\n",
    "modelSVR.fit(X_tr, y_tr)\n",
    "\n",
    "# XGBoost\n",
    "from xgboost import XGBRegressor\n",
    "modelXGB = XGBRegressor()\n",
    "modelXGB.fit(X_tr, y_tr)"
   ]
  },
  {
   "cell_type": "code",
   "execution_count": 9,
   "metadata": {
    "execution": {
     "iopub.execute_input": "2024-01-05T16:01:32.978807Z",
     "iopub.status.busy": "2024-01-05T16:01:32.978300Z",
     "iopub.status.idle": "2024-01-05T16:01:33.014731Z",
     "shell.execute_reply": "2024-01-05T16:01:33.013673Z",
     "shell.execute_reply.started": "2024-01-05T16:01:32.978762Z"
    }
   },
   "outputs": [],
   "source": [
    "# 각 모델 예측\n",
    "y_pred_LR = modelLR.predict(X_val)\n",
    "y_pred_RI = modelRI.predict(X_val)\n",
    "y_pred_RF = modelRF.predict(X_val)\n",
    "y_pred_SVR = modelSVR.predict(X_val)\n",
    "y_pred_XGB = modelXGB.predict(X_val)"
   ]
  },
  {
   "cell_type": "code",
   "execution_count": 10,
   "metadata": {
    "execution": {
     "iopub.execute_input": "2024-01-05T16:02:13.402793Z",
     "iopub.status.busy": "2024-01-05T16:02:13.402301Z",
     "iopub.status.idle": "2024-01-05T16:02:13.420600Z",
     "shell.execute_reply": "2024-01-05T16:02:13.419163Z",
     "shell.execute_reply.started": "2024-01-05T16:02:13.402751Z"
    }
   },
   "outputs": [
    {
     "name": "stdout",
     "output_type": "stream",
     "text": [
      "선형 회귀분석 결정계수 : 0.824\n",
      "Ridge 회귀분석 결정계수 : 0.826\n",
      "랜덤 포레스트 결정계수 : 0.771\n",
      "서포트 벡터 머신 결정계수 : 0.648\n",
      "XGBoost 결정계수 : 0.744\n"
     ]
    }
   ],
   "source": [
    "# 평가(1차 모델 선정)\n",
    "from sklearn.metrics import r2_score\n",
    "print('선형 회귀분석 결정계수 : {:.3f}'.format(r2_score(y_val, y_pred_LR)))\n",
    "print('Ridge 회귀분석 결정계수 : {:.3f}'.format(r2_score(y_val, y_pred_RI)))\n",
    "print('랜덤 포레스트 결정계수 : {:.3f}'.format(r2_score(y_val, y_pred_RF)))\n",
    "print('서포트 벡터 머신 결정계수 : {:.3f}'.format(r2_score(y_val, y_pred_SVR)))\n",
    "print('XGBoost 결정계수 : {:.3f}'.format(r2_score(y_val, y_pred_XGB)))\n"
   ]
  },
  {
   "cell_type": "code",
   "execution_count": 11,
   "metadata": {
    "execution": {
     "iopub.execute_input": "2024-01-05T16:02:28.552410Z",
     "iopub.status.busy": "2024-01-05T16:02:28.551901Z",
     "iopub.status.idle": "2024-01-05T16:02:29.598752Z",
     "shell.execute_reply": "2024-01-05T16:02:29.595561Z",
     "shell.execute_reply.started": "2024-01-05T16:02:28.552370Z"
    }
   },
   "outputs": [
    {
     "name": "stdout",
     "output_type": "stream",
     "text": [
      "최적 점수 : 0.767\n",
      "최적 파라미터 : {'alpha': 7.5, 'max_iter': 9.5}\n",
      "하이퍼파라미터 릿지 : 0.826\n"
     ]
    }
   ],
   "source": [
    "# 결정계수가 제일 높은 릿지에 대해서 하이퍼 파라미터를 조정.\n",
    "from sklearn.model_selection import GridSearchCV\n",
    "param = {\n",
    "    'alpha':[5,5.5,6,6.5,7,7.5],\n",
    "    'max_iter':[9.5,10,10.5,11,11.5,12]\n",
    "}\n",
    "# n_jobs 매개 변수를 사용하여 사용할 코어 수를 지정할 수 있다. 사용하는 CPU 코어 개수에 비례해서 속도도 빨라진다.\n",
    "# n_jobs = -1 (모든 코어 사용)\n",
    "\n",
    "gs = GridSearchCV(estimator=Ridge(), param_grid=param, scoring='r2', n_jobs=-1, cv=7)\n",
    "result = gs.fit(X_tr, y_tr)\n",
    "print('최적 점수 : {:.3f}'.format(result.best_score_))\n",
    "print('최적 파라미터 : {}'.format(result.best_params_))\n",
    "\n",
    "modelfinal = Ridge(alpha=6, max_iter=11)\n",
    "modelfinal.fit(X_tr, y_tr)\n",
    "y_pred_final = modelfinal.predict(X_val)\n",
    "print('하이퍼파라미터 릿지 : {:.3f}'.format(r2_score(y_val, y_pred_final)))"
   ]
  },
  {
   "cell_type": "code",
   "execution_count": 15,
   "metadata": {
    "execution": {
     "iopub.execute_input": "2024-01-05T16:03:19.865838Z",
     "iopub.status.busy": "2024-01-05T16:03:19.865392Z",
     "iopub.status.idle": "2024-01-05T16:03:19.884786Z",
     "shell.execute_reply": "2024-01-05T16:03:19.883433Z",
     "shell.execute_reply.started": "2024-01-05T16:03:19.865802Z"
    }
   },
   "outputs": [
    {
     "name": "stdout",
     "output_type": "stream",
     "text": [
      "     id    target\n",
      "0   128  0.719608\n",
      "1    76  0.758493\n",
      "2   151  0.870213\n",
      "3   102  0.609246\n",
      "4   272  0.514280\n",
      "..  ...       ...\n",
      "75  252  0.686921\n",
      "76  362  0.878199\n",
      "77  338  0.908284\n",
      "78  186  0.829053\n",
      "79  335  0.725720\n",
      "\n",
      "[80 rows x 2 columns]\n"
     ]
    }
   ],
   "source": [
    "# 제출\n",
    "pred=modelfinal.predict(X_test)\n",
    "pd.DataFrame({'id':X_test_ID, 'target':pred.ravel()}).to_csv('submit.csv', index=False)\n",
    "# ravel() : 2차원 배열을 1차원으로 펴준다.\n",
    "\n",
    "# 제출 파일 확인\n",
    "print(pd.read_csv('submit.csv'))"
   ]
  }
 ],
 "metadata": {
  "kaggle": {
   "accelerator": "none",
   "dataSources": [
    {
     "databundleVersionId": 3872098,
     "sourceId": 37158,
     "sourceType": "competition"
    }
   ],
   "dockerImageVersionId": 30301,
   "isGpuEnabled": false,
   "isInternetEnabled": true,
   "language": "python",
   "sourceType": "notebook"
  },
  "kernelspec": {
   "display_name": "Python 3 (ipykernel)",
   "language": "python",
   "name": "python3"
  },
  "language_info": {
   "codemirror_mode": {
    "name": "ipython",
    "version": 3
   },
   "file_extension": ".py",
   "mimetype": "text/x-python",
   "name": "python",
   "nbconvert_exporter": "python",
   "pygments_lexer": "ipython3",
   "version": "3.9.12"
  },
  "toc": {
   "base_numbering": 1,
   "nav_menu": {},
   "number_sections": true,
   "sideBar": true,
   "skip_h1_title": false,
   "title_cell": "Table of Contents",
   "title_sidebar": "Contents",
   "toc_cell": false,
   "toc_position": {},
   "toc_section_display": true,
   "toc_window_display": false
  }
 },
 "nbformat": 4,
 "nbformat_minor": 4
}
